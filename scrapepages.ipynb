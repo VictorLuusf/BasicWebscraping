{
 "cells": [
  {
   "cell_type": "code",
   "execution_count": 3,
   "metadata": {},
   "outputs": [
    {
     "name": "stdout",
     "output_type": "stream",
     "text": [
      "1 ) Price $24.99, Item Name: Short Dress\n",
      "1 ) Price $29.99, Item Name: Patterned Slacks\n",
      "1 ) Price $49.99, Item Name: Short Chiffon Dress\n",
      "1 ) Price $59.99, Item Name: Off-the-shoulder Dress\n",
      "1 ) Price $24.99, Item Name: V-neck Top\n",
      "1 ) Price $49.99, Item Name: Short Chiffon Dress\n",
      "1 ) Price $24.99, Item Name: V-neck Top\n",
      "1 ) Price $24.99, Item Name: V-neck Top\n",
      "1 ) Price $59.99, Item Name: Short Lace Dress\n"
     ]
    }
   ],
   "source": [
    "import requests\n",
    "from bs4 import BeautifulSoup\n",
    "url = 'https://scrapingclub.com/exercise/list_basic/?page=1'\n",
    "response = requests.get(url)\n",
    "soup = BeautifulSoup(response.text, 'lxml')\n",
    "items= soup.find_all('div', class_='col-lg-4 col-md-6 mb-4')\n",
    "count = 1\n",
    "for i in items:\n",
    "    itemName = i.find('h4', class_='card-title').text.strip('\\n')\n",
    "    itemPrice = i.find('h5').text\n",
    "    print('%s ) Price %s, Item Name: %s' % (count, itemPrice, itemName))\n",
    "count = count +1 "
   ]
  },
  {
   "cell_type": "code",
   "execution_count": null,
   "metadata": {},
   "outputs": [],
   "source": []
  }
 ],
 "metadata": {
  "kernelspec": {
   "display_name": "Python 3",
   "language": "python",
   "name": "python3"
  },
  "language_info": {
   "codemirror_mode": {
    "name": "ipython",
    "version": 3
   },
   "file_extension": ".py",
   "mimetype": "text/x-python",
   "name": "python",
   "nbconvert_exporter": "python",
   "pygments_lexer": "ipython3",
   "version": "3.8.3"
  }
 },
 "nbformat": 4,
 "nbformat_minor": 2
}
